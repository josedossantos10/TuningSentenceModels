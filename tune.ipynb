{
  "cells": [
    {
      "cell_type": "markdown",
      "metadata": {
        "id": "view-in-github",
        "colab_type": "text"
      },
      "source": [
        "<a href=\"https://colab.research.google.com/github/josedossantos10/TuningSentenceModels/blob/PROPOR2024/tune.ipynb\" target=\"_parent\"><img src=\"https://colab.research.google.com/assets/colab-badge.svg\" alt=\"Open In Colab\"/></a>"
      ]
    },
    {
      "cell_type": "markdown",
      "source": [
        "# PROPOR 2024\n",
        "#### Link dos resultados --> [https://docs.google.com/spreadsheets/d/19vP3u3dZFDkp8XztXWamhCwpjCk3tMvMW9m8FtnXQZw/edit#gid=1592378179]"
      ],
      "metadata": {
        "id": "vEypFq1Akp2U"
      }
    },
    {
      "cell_type": "markdown",
      "source": [
        "Versão particionada"
      ],
      "metadata": {
        "id": "iPv7JfZAb4Lx"
      }
    },
    {
      "cell_type": "markdown",
      "source": [
        "## Preparação"
      ],
      "metadata": {
        "id": "oqHHGTOTZR2_"
      }
    },
    {
      "cell_type": "code",
      "execution_count": null,
      "metadata": {
        "id": "vwh1aN-NKxar"
      },
      "outputs": [],
      "source": [
        "!pip install sentence_transformers\n",
        "from sentence_transformers import SentenceTransformer, SentencesDataset, util, SentencesDataset, InputExample, losses, models\n",
        "from torch.utils.data import DataLoader\n",
        "from google.colab import drive\n",
        "import torch\n",
        "import requests\n",
        "from itertools import combinations\n",
        "import numpy as np\n",
        "import pandas as pd\n",
        "from tqdm import tqdm\n",
        "import shutil\n",
        "import os\n",
        "import re\n",
        "from torch import nn\n",
        "all_models = {}\n"
      ]
    },
    {
      "cell_type": "code",
      "execution_count": null,
      "metadata": {
        "id": "6jvBNO_nmnuS"
      },
      "outputs": [],
      "source": [
        "os.makedirs('models',exist_ok=True)\n",
        "os.makedirs('data',exist_ok=True)\n",
        "# drive.mount('/content/drive')"
      ]
    },
    {
      "cell_type": "code",
      "execution_count": null,
      "metadata": {
        "id": "7V8_QLZxytGC"
      },
      "outputs": [],
      "source": [
        "def get_file(url, folder='data'):\n",
        "  r = requests.get(url.split('?').pop(0)+'?download=1')\n",
        "  d = r.headers['content-disposition']\n",
        "  fname = re.findall(\"filename=(.+)\", d)[0].replace('\"','')\n",
        "  with open(f'/content/{folder}/{fname}','wb') as f:\n",
        "    f.write(r.content)\n",
        "  if '.zip' in fname:\n",
        "    !unzip '/content/{folder}/{fname}' -d '/content/{folder}/'\n",
        "    print('Unziped and',end=' ')\n",
        "  print('Saved '+fname)"
      ]
    },
    {
      "cell_type": "code",
      "execution_count": null,
      "metadata": {
        "colab": {
          "base_uri": "https://localhost:8080/"
        },
        "id": "CneX50PiDoPK",
        "outputId": "0c7cdc38-713b-4396-d72b-14ccda5444b6"
      },
      "outputs": [
        {
          "output_type": "stream",
          "name": "stdout",
          "text": [
            "Archive:  /content/data/base_20230428_douglas-bill_corpus-parts.zip\n",
            "replace /content/data/base_20230428_douglas-bill_corpus-part0.csv? [y]es, [n]o, [A]ll, [N]one, [r]ename: n\n",
            "replace /content/data/base_20230428_douglas-bill_corpus-part1.csv? [y]es, [n]o, [A]ll, [N]one, [r]ename: N\n",
            "Unziped and Saved base_20230428_douglas-bill_corpus-parts.zip\n",
            "Saved pares-arvores-proposicao-filter.csv\n",
            "Archive:  /content/data/dados-conle-anonimizado-job_request-parts.zip\n",
            "replace /content/data/dados-conle-anonimizado-job_request-part0.csv? [y]es, [n]o, [A]ll, [N]one, [r]ename: N\n",
            "Unziped and Saved dados-conle-anonimizado-job_request-parts.zip\n"
          ]
        }
      ],
      "source": [
        "get_file('https://ufrpebr-my.sharepoint.com/:u:/g/personal/joseantonio_santos_ufrpe_br/EQcLlSaOKPtCtzY3juKPkpYB6Rl9Jnp-xNimWaIcJNe_bg?e=jc0ZWR')\n",
        "get_file('https://ufrpebr-my.sharepoint.com/:x:/g/personal/joseantonio_santos_ufrpe_br/EfciCkFDXkxAoKnvwW-O0FYB1YMf-iXIwD1nVdf0Ve_t8g?e=X1QPUi')\n",
        "get_file('https://ufrpebr-my.sharepoint.com/:u:/g/personal/joseantonio_santos_ufrpe_br/ESigtraTg-xLjUAwHuEzF0sB-CkOhU75tNSZcomdbuvpxg?e=AcMaXi')\n",
        "# get_file('https://ufrpebr-my.sharepoint.com/:u:/g/personal/joseantonio_santos_ufrpe_br/EQuYJnSjStVPmJ6Ec9-9Z3YBO32NpcNcCbbK0fad7NWTgw?download=1','models')\n"
      ]
    },
    {
      "cell_type": "code",
      "execution_count": null,
      "metadata": {
        "id": "9u0IAhkdwun1"
      },
      "outputs": [],
      "source": [
        "def build_model(version, mode=False):\n",
        "    if mode:\n",
        "        # Use Huggingface/transformers model (like BERT, RoBERTa, XLNet, XLM-R) for mapping tokens to embeddings\n",
        "        if version=='sbert':\n",
        "            word_embedding_model = models.Transformer(\"neuralmind/bert-large-portuguese-cased\")\n",
        "            pooling_model = models.Pooling(word_embedding_model.get_word_embedding_dimension(),\n",
        "                                        pooling_mode_mean_tokens=True,\n",
        "                                        pooling_mode_cls_token=False,\n",
        "                                        pooling_mode_max_tokens=False)\n",
        "        # elif version=='lbert':\n",
        "        #     word_embedding_model = SentenceTransformer(\"ulysses-camara/legal-bert-pt-br\")[0]\n",
        "        #     pooling_model = models.Pooling(word_embedding_model.get_word_embedding_dimension(),\n",
        "        #                                 pooling_mode_mean_tokens=True,\n",
        "        #                                 pooling_mode_cls_token=False,\n",
        "        #                                 pooling_mode_max_tokens=False)\n",
        "        elif version=='lbert':\n",
        "            word_embedding_model = SentenceTransformer(\"ulysses-camara/legal-bert-pt-br\")[0]\n",
        "            pooling_model = models.Pooling(word_embedding_model.get_word_embedding_dimension(),\n",
        "                                        pooling_mode_mean_tokens=True,\n",
        "                                        pooling_mode_cls_token=False,\n",
        "                                        pooling_mode_max_tokens=False)\n",
        "        elif version=='labse':\n",
        "            word_embedding_model = models.Transformer(\"sentence-transformers/LabSE\")\n",
        "            pooling_model = models.Pooling(word_embedding_model.get_word_embedding_dimension(),\n",
        "                                        pooling_mode_mean_tokens=False,\n",
        "                                        pooling_mode_cls_token=True,\n",
        "                                        pooling_mode_max_tokens=False)\n",
        "        elif version=='lbt':\n",
        "            word_embedding_model = models.Transformer(\"rufimelo/Legal-BERTimbau-large\")\n",
        "            pooling_model = models.Pooling(word_embedding_model.get_word_embedding_dimension(),\n",
        "                                        pooling_mode_mean_tokens=True,\n",
        "                                        pooling_mode_cls_token=False,\n",
        "                                        pooling_mode_max_tokens=False)\n",
        "        else:\n",
        "            return SentenceTransformer(f'./models/{version}/')\n",
        "\n",
        "        word_embedding_model.max_seq_length=512\n",
        "        # Apply mean pooling to get one fixed sized sentence vector\n",
        "        #pooling_model = models.Pooling(word_embedding_model.get_word_embedding_dimension(), pooling_mode_mean_tokens=True, pooling_mode_cls_token=False, pooling_mode_max_tokens=False)\n",
        "        #dense_model = models.Dense(in_features=pooling_model.get_sentence_embedding_dimension(), out_features=pooling_model.get_sentence_embedding_dimension(),\n",
        "         #                          activation_function=nn.Tanh())\n",
        "        #norm = models.Normalize()\n",
        "        # dense_model = models.Dense(in_features=pooling_model.get_sentence_embedding_dimension(), out_features=768, activation_function=nn.Tanh())\n",
        "\n",
        "        model = SentenceTransformer(modules=[word_embedding_model, pooling_model])\n",
        "\n",
        "        return model\n",
        "\n",
        "    # Building dataloader and trianing model\n",
        "    if version=='sbert':\n",
        "        model = SentenceTransformer(\"neuralmind/bert-large-portuguese-cased\")\n",
        "    elif version=='lbert':\n",
        "        model = SentenceTransformer(\"ulysses-camara/legal-bert-pt-br\")\n",
        "    elif version=='lbertt':\n",
        "        model = SentenceTransformer(\"ulysses-camara/legal-bert-pt-br\")\n",
        "    elif version=='albert':\n",
        "        model = SentenceTransformer(\"PORTULAN/albertina-ptbr\")\n",
        "    elif version=='allbert':\n",
        "        model = SentenceTransformer(\"sentence-transformers/all-MiniLM-L6-v2\")\n",
        "    elif version=='disbert':\n",
        "        model = SentenceTransformer(\"distilroberta-base\")\n",
        "    elif version=='labse':\n",
        "        model = SentenceTransformer(\"sentence-transformers/LabSE\")\n",
        "    elif version=='lbt':\n",
        "        model = SentenceTransformer(\"rufimelo/Legal-BERTimbau-large\")\n",
        "    else:\n",
        "        model = SentenceTransformer(f\"./models/{version}/\")\n",
        "    model.max_seq_length=512\n",
        "    return model\n",
        "\n",
        "def finetuning(version, train_dataset, epochs=1, batch_size=2):\n",
        "    train_dataloader = DataLoader(train_dataset, shuffle=True, batch_size=batch_size)\n",
        "    # Building dataloader and trianing model\n",
        "    model = build_model(version, True)\n",
        "    train_loss = losses.ContrastiveLoss(model)\n",
        "    # train_loss = losses.CosineSimilarityLoss(model)\n",
        "    # train_loss = losses.MultipleNegativesRankingLoss(model)\n",
        "    #Tune the model\n",
        "    model.fit(train_objectives=[(train_dataloader, train_loss)], epochs=epochs,show_progress_bar=True)#, checkpoint_path=f\"./../models/{column_data}/checkpoint_{version}\", output_path=f\"./../models/{column_data}/model_{version}\", save_best_model=True )\n",
        "    return model\n",
        "\n",
        "def get_name(df, doc, in_field=\"content\", out_field = \"name\"):\n",
        "    return str(df[df[in_field]==doc][out_field].to_numpy()[0]).strip()\n",
        "def recall(vector):\n",
        "    return sum([1 for (target, docs) in vector if target in docs])/len(vector)\n",
        "def evaluate(model, top_k,corpus, queries):\n",
        "    corpus_embeddings = model.encode(corpus, convert_to_tensor=True)\n",
        "    res_vector = list()\n",
        "    for query in queries:\n",
        "        try:\n",
        "            query_embedding = model.encode(query, convert_to_tensor=True)\n",
        "            cos_scores = util.pytorch_cos_sim(query_embedding, corpus_embeddings)[0]\n",
        "            top_results = torch.topk(cos_scores, k=top_k)\n",
        "\n",
        "            if torch.cuda.is_available():\n",
        "                top_resuts_txt = [get_name(df, txt, in_field=column_data, out_field=\"txtNome\").strip() for txt in corpus[top_results[1].cpu().numpy()]]\n",
        "            else:\n",
        "                top_resuts_txt = [get_name(df, txt, in_field=column_data, out_field=\"txtNome\").strip() for txt in corpus[top_results[1].numpy()]]\n",
        "\n",
        "            res_vector.append([get_name(df_assunto, query, \"TxtAssunto\", \"NÚMERO-PROPOSIÇÃOSILEG\").strip(), top_resuts_txt])\n",
        "        except Exception as e:\n",
        "            print(f\"ERRO ao realizar encoding:{e}\")\n",
        "            pass\n",
        "    return recall(res_vector)"
      ]
    },
    {
      "cell_type": "markdown",
      "source": [
        "## Lbertimbau"
      ],
      "metadata": {
        "id": "WDt0BPILkEri"
      }
    },
    {
      "cell_type": "code",
      "execution_count": null,
      "metadata": {
        "id": "X8Tv-YVX4JWb",
        "colab": {
          "base_uri": "https://localhost:8080/",
          "height": 220,
          "referenced_widgets": [
            "5222642b4f6b479b948078401941109a",
            "f6377042ead64587b4aeddf0e8cff21e",
            "1d175ef049ef4465a5723aebc7b949f9",
            "d548588694bb4a1f8898b22ec613612d",
            "cb0b4bd0e47b4c6c99dfcd65fdc61762",
            "5d7deef208964df3917c8d8c9fc3d3d0",
            "f9b18435ef714a90816cf189ac9b9c2d",
            "6cea9defe850443892a84e92e51ea891",
            "734a20dffe5a4f1ea691912f84fa7317",
            "f9080bf3c9944d069dc0f5dea9c7a7dd",
            "2f951192584447a7adc8db975552097b",
            "db2bafc21e414033a10279fc4bab3fe2",
            "a862450044d34c9f8c98bbfda73f0c2c",
            "5f315fc203964cd58a345bd46e5571b2",
            "2b4c18d0220b4ba098b8fb8d64910983",
            "c5c0215651cb4d8baf41b7d12553137e",
            "67d1bc586eac4f1984a905855964b28e",
            "5fa659a851014bacb4109ee3c7e1a7d1",
            "dfc1c9a421e64219a57aecf61f9b19f4",
            "2bca9bf420c14c488de4d1b0ec58385e",
            "d7b106d61ffc487f9e250692fd724ef2",
            "52cf82616d5348b4964d60d302666f15"
          ]
        },
        "outputId": "3e947b47-38f7-4d04-f5dd-6fb3c93941c7"
      },
      "outputs": [
        {
          "output_type": "display_data",
          "data": {
            "text/plain": [
              "Epoch:   0%|          | 0/1 [00:00<?, ?it/s]"
            ],
            "application/vnd.jupyter.widget-view+json": {
              "version_major": 2,
              "version_minor": 0,
              "model_id": "5222642b4f6b479b948078401941109a"
            }
          },
          "metadata": {}
        },
        {
          "output_type": "display_data",
          "data": {
            "text/plain": [
              "Iteration:   0%|          | 0/2164 [00:00<?, ?it/s]"
            ],
            "application/vnd.jupyter.widget-view+json": {
              "version_major": 2,
              "version_minor": 0,
              "model_id": "db2bafc21e414033a10279fc4bab3fe2"
            }
          },
          "metadata": {}
        },
        {
          "output_type": "stream",
          "name": "stderr",
          "text": [
            " 20%|██        | 1/5 [14:03<56:14, 843.58s/it]"
          ]
        },
        {
          "output_type": "stream",
          "name": "stdout",
          "text": [
            "labse untuned Recall: 40.0 tuned Recall:48.89\n"
          ]
        },
        {
          "output_type": "stream",
          "name": "stderr",
          "text": [
            " 40%|████      | 2/5 [27:58<41:54, 838.32s/it]"
          ]
        },
        {
          "output_type": "stream",
          "name": "stdout",
          "text": [
            "labse untuned Recall: 52.7 tuned Recall:66.22\n"
          ]
        },
        {
          "output_type": "stream",
          "name": "stderr",
          "text": [
            " 60%|██████    | 3/5 [42:05<28:04, 842.35s/it]"
          ]
        },
        {
          "output_type": "stream",
          "name": "stdout",
          "text": [
            "labse untuned Recall: 53.73 tuned Recall:70.15\n"
          ]
        },
        {
          "output_type": "stream",
          "name": "stderr",
          "text": [
            " 80%|████████  | 4/5 [56:00<13:59, 839.70s/it]"
          ]
        },
        {
          "output_type": "stream",
          "name": "stdout",
          "text": [
            "labse untuned Recall: 64.15 tuned Recall:83.02\n"
          ]
        },
        {
          "output_type": "stream",
          "name": "stderr",
          "text": [
            "100%|██████████| 5/5 [1:09:53<00:00, 838.80s/it]"
          ]
        },
        {
          "output_type": "stream",
          "name": "stdout",
          "text": [
            "labse untuned Recall: 60.71 tuned Recall:71.43\n",
            "zero-shot --> Média: 54.26. Desvio Padrão: 0.08313131997507\n",
            "finetuning --> Média: 67.94. Desvio Padrão: 0.11048433870929471\n"
          ]
        },
        {
          "output_type": "stream",
          "name": "stderr",
          "text": [
            "\n"
          ]
        }
      ],
      "source": [
        "# column_data = 'txtEmenta'\n",
        "# column_data = 'txtIndexacao'\n",
        "# column_data = 'txtInteiroTeor'\n",
        "column_data = 'txtInteiroTeorLimpo'\n",
        "top_k = 20\n",
        "runs = 5\n",
        "epochs = 1\n",
        "version = 'labse'\n",
        "i=0\n",
        "read_df = pd.read_csv(f'/content/data/pares-arvores-proposicao-filter.csv').rename(columns={'imgArquivoTeorPDF_clean_1':'txtInteiroTeorLimpo_1','imgArquivoTeorPDF_clean_2':'txtInteiroTeorLimpo_2'}).dropna().reset_index(drop=True)\n",
        "read_df['label'] = read_df.label.apply(int)\n",
        "train_dataset = read_df.apply(lambda x: InputExample(texts=(x[f'{column_data}_1'], x[f'{column_data}_2']), label=x['label']), axis=1)\n",
        "\n",
        "model_tuned = finetuning(version, train_dataset, epochs=epochs, batch_size=2)\n",
        "for e in tqdm(range(0, runs)):\n",
        "    element = f'{column_data}_{version}_{e}'\n",
        "    df = pd.read_csv(f\"/content/data/base_20230428_douglas-bill_corpus-part{i}.csv\")\n",
        "    df_assunto = pd.read_csv(f\"/content/data/dados-conle-anonimizado-job_request-part{i}.csv\", encoding=\"utf-8\")\n",
        "    queries = df_assunto[\"TxtAssunto\"].to_numpy()\n",
        "    corpus = df[column_data].to_numpy()\n",
        "    zero_shot = evaluate(build_model(version),top_k,corpus, queries)\n",
        "    tuned = evaluate(model_tuned,top_k,corpus, queries)\n",
        "    all_models[element] = (zero_shot, tuned)\n",
        "    tqdm.write(f'{version} untuned Recall: {round(zero_shot*100,2)} tuned Recall:{round(tuned*100,2)}')\n",
        "    i+=1\n",
        "recalls_zero = [all_models[e][0] for e in all_models]\n",
        "recalls_tuned = [all_models[e][1] for e in all_models]\n",
        "print(f'zero-shot --> Média: {round(np.average(recalls_zero)*100,2)}. Desvio Padrão: {np.std(recalls_zero)}')\n",
        "print(f'finetuning --> Média: {round(np.average(recalls_tuned)*100,2)}. Desvio Padrão: {np.std(recalls_tuned)}')"
      ]
    },
    {
      "cell_type": "code",
      "source": [
        "zero_shot"
      ],
      "metadata": {
        "colab": {
          "base_uri": "https://localhost:8080/"
        },
        "id": "n60ZwUwcxrsN",
        "outputId": "775781cd-2a67-49ed-8451-202b614463b7"
      },
      "execution_count": null,
      "outputs": [
        {
          "output_type": "execute_result",
          "data": {
            "text/plain": [
              "0.022222222222222223"
            ]
          },
          "metadata": {},
          "execution_count": 8
        }
      ]
    },
    {
      "cell_type": "code",
      "source": [
        "tuned"
      ],
      "metadata": {
        "colab": {
          "base_uri": "https://localhost:8080/"
        },
        "id": "FZz4TyX2x1fC",
        "outputId": "73b4b92b-3c1f-4350-9e85-4800d2ee77e7"
      },
      "execution_count": null,
      "outputs": [
        {
          "output_type": "execute_result",
          "data": {
            "text/plain": [
              "0.0"
            ]
          },
          "metadata": {},
          "execution_count": 10
        }
      ]
    },
    {
      "cell_type": "code",
      "source": [
        "element"
      ],
      "metadata": {
        "colab": {
          "base_uri": "https://localhost:8080/"
        },
        "id": "OONMIlzMyLed",
        "outputId": "b80b9295-0a84-4dba-fd3c-ad061c7dc16a"
      },
      "execution_count": null,
      "outputs": [
        {
          "output_type": "execute_result",
          "data": {
            "text/plain": [
              "['txtInteiroTeor_lbt_0']"
            ]
          },
          "metadata": {},
          "execution_count": 13
        }
      ]
    },
    {
      "cell_type": "code",
      "source": [
        "all_models[element[0]] = (zero_shot, tuned)"
      ],
      "metadata": {
        "id": "WHuDKC3lyDdI"
      },
      "execution_count": null,
      "outputs": []
    },
    {
      "cell_type": "code",
      "source": [
        "# column_data = 'txtEmenta'\n",
        "# column_data = 'txtIndexacao'\n",
        "column_data = 'txtInteiroTeor'\n",
        "# column_data = 'txtInteiroTeorLimpo'\n",
        "top_k = 20\n",
        "runs = 5\n",
        "epochs = 1\n",
        "version = 'lbt'\n",
        "i=0\n",
        "read_df = pd.read_csv(f'/content/data/base_20230428_douglas-pair_bill_corpus-lite.csv').dropna().reset_index(drop=True)\n",
        "read_df['label'] = read_df.label.apply(int)\n",
        "train_dataset = read_df.apply(lambda x: InputExample(texts=(x[f'{column_data}_1'], x[f'{column_data}_2']), label=x['label']), axis=1)\n",
        "\n",
        "for e in tqdm(range(0, runs)):\n",
        "    element = [f'{column_data}_{version}_{e}']\n",
        "    df = pd.read_csv(f\"/content/data/base_20230428_douglas-bill_corpus-part{i}.csv\")\n",
        "    df_assunto = pd.read_csv(f\"/content/data/dados-conle-anonimizado-job_request-part{i}.csv\", encoding=\"utf-8\")\n",
        "    queries = df_assunto[\"TxtAssunto\"].to_numpy()\n",
        "    corpus = df[column_data].to_numpy()\n",
        "    zero_shot = evaluate(build_model(version),top_k,corpus)\n",
        "    model = finetuning(version, train_dataset, epochs=epochs, batch_size=2)\n",
        "    tuned = evaluate(model,top_k,corpus)\n",
        "    all_models[element] = (zero_shot, tuned)\n",
        "    tqdm.write(f'{version} untuned Recall: {round(zero_shot*100,2)} tuned Recall:{round(tuned*100,2)}')\n",
        "    i+=1\n",
        "recalls_zero = [all_models[e][0] for e in all_models]\n",
        "recalls_tuned = [all_models[e][1] for e in all_models]\n",
        "print(f'zero-shot --> Média: {round(np.average(recalls_zero)*100,2)}. Desvio Padrão: {np.std(recalls_zero)}')\n",
        "print(f'finetuning --> Média: {round(np.average(recalls_tuned)*100,2)}. Desvio Padrão: {np.std(recalls_tuned)}')"
      ],
      "metadata": {
        "id": "xvyFgNfpkInt"
      },
      "execution_count": null,
      "outputs": []
    },
    {
      "cell_type": "markdown",
      "metadata": {
        "id": "GRxIIiZ4edVe"
      },
      "source": [
        "### Fim\n",
        "\n"
      ]
    },
    {
      "cell_type": "code",
      "source": [],
      "metadata": {
        "id": "bdqWVSirkZUY"
      },
      "execution_count": null,
      "outputs": []
    }
  ],
  "metadata": {
    "accelerator": "GPU",
    "colab": {
      "provenance": [],
      "include_colab_link": true
    },
    "gpuClass": "standard",
    "kernelspec": {
      "display_name": "Python 3",
      "name": "python3"
    },
    "language_info": {
      "name": "python"
    },
    "widgets": {
      "application/vnd.jupyter.widget-state+json": {
        "5222642b4f6b479b948078401941109a": {
          "model_module": "@jupyter-widgets/controls",
          "model_name": "HBoxModel",
          "model_module_version": "1.5.0",
          "state": {
            "_dom_classes": [],
            "_model_module": "@jupyter-widgets/controls",
            "_model_module_version": "1.5.0",
            "_model_name": "HBoxModel",
            "_view_count": null,
            "_view_module": "@jupyter-widgets/controls",
            "_view_module_version": "1.5.0",
            "_view_name": "HBoxView",
            "box_style": "",
            "children": [
              "IPY_MODEL_f6377042ead64587b4aeddf0e8cff21e",
              "IPY_MODEL_1d175ef049ef4465a5723aebc7b949f9",
              "IPY_MODEL_d548588694bb4a1f8898b22ec613612d"
            ],
            "layout": "IPY_MODEL_cb0b4bd0e47b4c6c99dfcd65fdc61762"
          }
        },
        "f6377042ead64587b4aeddf0e8cff21e": {
          "model_module": "@jupyter-widgets/controls",
          "model_name": "HTMLModel",
          "model_module_version": "1.5.0",
          "state": {
            "_dom_classes": [],
            "_model_module": "@jupyter-widgets/controls",
            "_model_module_version": "1.5.0",
            "_model_name": "HTMLModel",
            "_view_count": null,
            "_view_module": "@jupyter-widgets/controls",
            "_view_module_version": "1.5.0",
            "_view_name": "HTMLView",
            "description": "",
            "description_tooltip": null,
            "layout": "IPY_MODEL_5d7deef208964df3917c8d8c9fc3d3d0",
            "placeholder": "​",
            "style": "IPY_MODEL_f9b18435ef714a90816cf189ac9b9c2d",
            "value": "Epoch: 100%"
          }
        },
        "1d175ef049ef4465a5723aebc7b949f9": {
          "model_module": "@jupyter-widgets/controls",
          "model_name": "FloatProgressModel",
          "model_module_version": "1.5.0",
          "state": {
            "_dom_classes": [],
            "_model_module": "@jupyter-widgets/controls",
            "_model_module_version": "1.5.0",
            "_model_name": "FloatProgressModel",
            "_view_count": null,
            "_view_module": "@jupyter-widgets/controls",
            "_view_module_version": "1.5.0",
            "_view_name": "ProgressView",
            "bar_style": "success",
            "description": "",
            "description_tooltip": null,
            "layout": "IPY_MODEL_6cea9defe850443892a84e92e51ea891",
            "max": 1,
            "min": 0,
            "orientation": "horizontal",
            "style": "IPY_MODEL_734a20dffe5a4f1ea691912f84fa7317",
            "value": 1
          }
        },
        "d548588694bb4a1f8898b22ec613612d": {
          "model_module": "@jupyter-widgets/controls",
          "model_name": "HTMLModel",
          "model_module_version": "1.5.0",
          "state": {
            "_dom_classes": [],
            "_model_module": "@jupyter-widgets/controls",
            "_model_module_version": "1.5.0",
            "_model_name": "HTMLModel",
            "_view_count": null,
            "_view_module": "@jupyter-widgets/controls",
            "_view_module_version": "1.5.0",
            "_view_name": "HTMLView",
            "description": "",
            "description_tooltip": null,
            "layout": "IPY_MODEL_f9080bf3c9944d069dc0f5dea9c7a7dd",
            "placeholder": "​",
            "style": "IPY_MODEL_2f951192584447a7adc8db975552097b",
            "value": " 1/1 [22:21&lt;00:00, 1341.18s/it]"
          }
        },
        "cb0b4bd0e47b4c6c99dfcd65fdc61762": {
          "model_module": "@jupyter-widgets/base",
          "model_name": "LayoutModel",
          "model_module_version": "1.2.0",
          "state": {
            "_model_module": "@jupyter-widgets/base",
            "_model_module_version": "1.2.0",
            "_model_name": "LayoutModel",
            "_view_count": null,
            "_view_module": "@jupyter-widgets/base",
            "_view_module_version": "1.2.0",
            "_view_name": "LayoutView",
            "align_content": null,
            "align_items": null,
            "align_self": null,
            "border": null,
            "bottom": null,
            "display": null,
            "flex": null,
            "flex_flow": null,
            "grid_area": null,
            "grid_auto_columns": null,
            "grid_auto_flow": null,
            "grid_auto_rows": null,
            "grid_column": null,
            "grid_gap": null,
            "grid_row": null,
            "grid_template_areas": null,
            "grid_template_columns": null,
            "grid_template_rows": null,
            "height": null,
            "justify_content": null,
            "justify_items": null,
            "left": null,
            "margin": null,
            "max_height": null,
            "max_width": null,
            "min_height": null,
            "min_width": null,
            "object_fit": null,
            "object_position": null,
            "order": null,
            "overflow": null,
            "overflow_x": null,
            "overflow_y": null,
            "padding": null,
            "right": null,
            "top": null,
            "visibility": null,
            "width": null
          }
        },
        "5d7deef208964df3917c8d8c9fc3d3d0": {
          "model_module": "@jupyter-widgets/base",
          "model_name": "LayoutModel",
          "model_module_version": "1.2.0",
          "state": {
            "_model_module": "@jupyter-widgets/base",
            "_model_module_version": "1.2.0",
            "_model_name": "LayoutModel",
            "_view_count": null,
            "_view_module": "@jupyter-widgets/base",
            "_view_module_version": "1.2.0",
            "_view_name": "LayoutView",
            "align_content": null,
            "align_items": null,
            "align_self": null,
            "border": null,
            "bottom": null,
            "display": null,
            "flex": null,
            "flex_flow": null,
            "grid_area": null,
            "grid_auto_columns": null,
            "grid_auto_flow": null,
            "grid_auto_rows": null,
            "grid_column": null,
            "grid_gap": null,
            "grid_row": null,
            "grid_template_areas": null,
            "grid_template_columns": null,
            "grid_template_rows": null,
            "height": null,
            "justify_content": null,
            "justify_items": null,
            "left": null,
            "margin": null,
            "max_height": null,
            "max_width": null,
            "min_height": null,
            "min_width": null,
            "object_fit": null,
            "object_position": null,
            "order": null,
            "overflow": null,
            "overflow_x": null,
            "overflow_y": null,
            "padding": null,
            "right": null,
            "top": null,
            "visibility": null,
            "width": null
          }
        },
        "f9b18435ef714a90816cf189ac9b9c2d": {
          "model_module": "@jupyter-widgets/controls",
          "model_name": "DescriptionStyleModel",
          "model_module_version": "1.5.0",
          "state": {
            "_model_module": "@jupyter-widgets/controls",
            "_model_module_version": "1.5.0",
            "_model_name": "DescriptionStyleModel",
            "_view_count": null,
            "_view_module": "@jupyter-widgets/base",
            "_view_module_version": "1.2.0",
            "_view_name": "StyleView",
            "description_width": ""
          }
        },
        "6cea9defe850443892a84e92e51ea891": {
          "model_module": "@jupyter-widgets/base",
          "model_name": "LayoutModel",
          "model_module_version": "1.2.0",
          "state": {
            "_model_module": "@jupyter-widgets/base",
            "_model_module_version": "1.2.0",
            "_model_name": "LayoutModel",
            "_view_count": null,
            "_view_module": "@jupyter-widgets/base",
            "_view_module_version": "1.2.0",
            "_view_name": "LayoutView",
            "align_content": null,
            "align_items": null,
            "align_self": null,
            "border": null,
            "bottom": null,
            "display": null,
            "flex": null,
            "flex_flow": null,
            "grid_area": null,
            "grid_auto_columns": null,
            "grid_auto_flow": null,
            "grid_auto_rows": null,
            "grid_column": null,
            "grid_gap": null,
            "grid_row": null,
            "grid_template_areas": null,
            "grid_template_columns": null,
            "grid_template_rows": null,
            "height": null,
            "justify_content": null,
            "justify_items": null,
            "left": null,
            "margin": null,
            "max_height": null,
            "max_width": null,
            "min_height": null,
            "min_width": null,
            "object_fit": null,
            "object_position": null,
            "order": null,
            "overflow": null,
            "overflow_x": null,
            "overflow_y": null,
            "padding": null,
            "right": null,
            "top": null,
            "visibility": null,
            "width": null
          }
        },
        "734a20dffe5a4f1ea691912f84fa7317": {
          "model_module": "@jupyter-widgets/controls",
          "model_name": "ProgressStyleModel",
          "model_module_version": "1.5.0",
          "state": {
            "_model_module": "@jupyter-widgets/controls",
            "_model_module_version": "1.5.0",
            "_model_name": "ProgressStyleModel",
            "_view_count": null,
            "_view_module": "@jupyter-widgets/base",
            "_view_module_version": "1.2.0",
            "_view_name": "StyleView",
            "bar_color": null,
            "description_width": ""
          }
        },
        "f9080bf3c9944d069dc0f5dea9c7a7dd": {
          "model_module": "@jupyter-widgets/base",
          "model_name": "LayoutModel",
          "model_module_version": "1.2.0",
          "state": {
            "_model_module": "@jupyter-widgets/base",
            "_model_module_version": "1.2.0",
            "_model_name": "LayoutModel",
            "_view_count": null,
            "_view_module": "@jupyter-widgets/base",
            "_view_module_version": "1.2.0",
            "_view_name": "LayoutView",
            "align_content": null,
            "align_items": null,
            "align_self": null,
            "border": null,
            "bottom": null,
            "display": null,
            "flex": null,
            "flex_flow": null,
            "grid_area": null,
            "grid_auto_columns": null,
            "grid_auto_flow": null,
            "grid_auto_rows": null,
            "grid_column": null,
            "grid_gap": null,
            "grid_row": null,
            "grid_template_areas": null,
            "grid_template_columns": null,
            "grid_template_rows": null,
            "height": null,
            "justify_content": null,
            "justify_items": null,
            "left": null,
            "margin": null,
            "max_height": null,
            "max_width": null,
            "min_height": null,
            "min_width": null,
            "object_fit": null,
            "object_position": null,
            "order": null,
            "overflow": null,
            "overflow_x": null,
            "overflow_y": null,
            "padding": null,
            "right": null,
            "top": null,
            "visibility": null,
            "width": null
          }
        },
        "2f951192584447a7adc8db975552097b": {
          "model_module": "@jupyter-widgets/controls",
          "model_name": "DescriptionStyleModel",
          "model_module_version": "1.5.0",
          "state": {
            "_model_module": "@jupyter-widgets/controls",
            "_model_module_version": "1.5.0",
            "_model_name": "DescriptionStyleModel",
            "_view_count": null,
            "_view_module": "@jupyter-widgets/base",
            "_view_module_version": "1.2.0",
            "_view_name": "StyleView",
            "description_width": ""
          }
        },
        "db2bafc21e414033a10279fc4bab3fe2": {
          "model_module": "@jupyter-widgets/controls",
          "model_name": "HBoxModel",
          "model_module_version": "1.5.0",
          "state": {
            "_dom_classes": [],
            "_model_module": "@jupyter-widgets/controls",
            "_model_module_version": "1.5.0",
            "_model_name": "HBoxModel",
            "_view_count": null,
            "_view_module": "@jupyter-widgets/controls",
            "_view_module_version": "1.5.0",
            "_view_name": "HBoxView",
            "box_style": "",
            "children": [
              "IPY_MODEL_a862450044d34c9f8c98bbfda73f0c2c",
              "IPY_MODEL_5f315fc203964cd58a345bd46e5571b2",
              "IPY_MODEL_2b4c18d0220b4ba098b8fb8d64910983"
            ],
            "layout": "IPY_MODEL_c5c0215651cb4d8baf41b7d12553137e"
          }
        },
        "a862450044d34c9f8c98bbfda73f0c2c": {
          "model_module": "@jupyter-widgets/controls",
          "model_name": "HTMLModel",
          "model_module_version": "1.5.0",
          "state": {
            "_dom_classes": [],
            "_model_module": "@jupyter-widgets/controls",
            "_model_module_version": "1.5.0",
            "_model_name": "HTMLModel",
            "_view_count": null,
            "_view_module": "@jupyter-widgets/controls",
            "_view_module_version": "1.5.0",
            "_view_name": "HTMLView",
            "description": "",
            "description_tooltip": null,
            "layout": "IPY_MODEL_67d1bc586eac4f1984a905855964b28e",
            "placeholder": "​",
            "style": "IPY_MODEL_5fa659a851014bacb4109ee3c7e1a7d1",
            "value": "Iteration: 100%"
          }
        },
        "5f315fc203964cd58a345bd46e5571b2": {
          "model_module": "@jupyter-widgets/controls",
          "model_name": "FloatProgressModel",
          "model_module_version": "1.5.0",
          "state": {
            "_dom_classes": [],
            "_model_module": "@jupyter-widgets/controls",
            "_model_module_version": "1.5.0",
            "_model_name": "FloatProgressModel",
            "_view_count": null,
            "_view_module": "@jupyter-widgets/controls",
            "_view_module_version": "1.5.0",
            "_view_name": "ProgressView",
            "bar_style": "success",
            "description": "",
            "description_tooltip": null,
            "layout": "IPY_MODEL_dfc1c9a421e64219a57aecf61f9b19f4",
            "max": 2164,
            "min": 0,
            "orientation": "horizontal",
            "style": "IPY_MODEL_2bca9bf420c14c488de4d1b0ec58385e",
            "value": 2164
          }
        },
        "2b4c18d0220b4ba098b8fb8d64910983": {
          "model_module": "@jupyter-widgets/controls",
          "model_name": "HTMLModel",
          "model_module_version": "1.5.0",
          "state": {
            "_dom_classes": [],
            "_model_module": "@jupyter-widgets/controls",
            "_model_module_version": "1.5.0",
            "_model_name": "HTMLModel",
            "_view_count": null,
            "_view_module": "@jupyter-widgets/controls",
            "_view_module_version": "1.5.0",
            "_view_name": "HTMLView",
            "description": "",
            "description_tooltip": null,
            "layout": "IPY_MODEL_d7b106d61ffc487f9e250692fd724ef2",
            "placeholder": "​",
            "style": "IPY_MODEL_52cf82616d5348b4964d60d302666f15",
            "value": " 2164/2164 [22:21&lt;00:00,  1.62it/s]"
          }
        },
        "c5c0215651cb4d8baf41b7d12553137e": {
          "model_module": "@jupyter-widgets/base",
          "model_name": "LayoutModel",
          "model_module_version": "1.2.0",
          "state": {
            "_model_module": "@jupyter-widgets/base",
            "_model_module_version": "1.2.0",
            "_model_name": "LayoutModel",
            "_view_count": null,
            "_view_module": "@jupyter-widgets/base",
            "_view_module_version": "1.2.0",
            "_view_name": "LayoutView",
            "align_content": null,
            "align_items": null,
            "align_self": null,
            "border": null,
            "bottom": null,
            "display": null,
            "flex": null,
            "flex_flow": null,
            "grid_area": null,
            "grid_auto_columns": null,
            "grid_auto_flow": null,
            "grid_auto_rows": null,
            "grid_column": null,
            "grid_gap": null,
            "grid_row": null,
            "grid_template_areas": null,
            "grid_template_columns": null,
            "grid_template_rows": null,
            "height": null,
            "justify_content": null,
            "justify_items": null,
            "left": null,
            "margin": null,
            "max_height": null,
            "max_width": null,
            "min_height": null,
            "min_width": null,
            "object_fit": null,
            "object_position": null,
            "order": null,
            "overflow": null,
            "overflow_x": null,
            "overflow_y": null,
            "padding": null,
            "right": null,
            "top": null,
            "visibility": null,
            "width": null
          }
        },
        "67d1bc586eac4f1984a905855964b28e": {
          "model_module": "@jupyter-widgets/base",
          "model_name": "LayoutModel",
          "model_module_version": "1.2.0",
          "state": {
            "_model_module": "@jupyter-widgets/base",
            "_model_module_version": "1.2.0",
            "_model_name": "LayoutModel",
            "_view_count": null,
            "_view_module": "@jupyter-widgets/base",
            "_view_module_version": "1.2.0",
            "_view_name": "LayoutView",
            "align_content": null,
            "align_items": null,
            "align_self": null,
            "border": null,
            "bottom": null,
            "display": null,
            "flex": null,
            "flex_flow": null,
            "grid_area": null,
            "grid_auto_columns": null,
            "grid_auto_flow": null,
            "grid_auto_rows": null,
            "grid_column": null,
            "grid_gap": null,
            "grid_row": null,
            "grid_template_areas": null,
            "grid_template_columns": null,
            "grid_template_rows": null,
            "height": null,
            "justify_content": null,
            "justify_items": null,
            "left": null,
            "margin": null,
            "max_height": null,
            "max_width": null,
            "min_height": null,
            "min_width": null,
            "object_fit": null,
            "object_position": null,
            "order": null,
            "overflow": null,
            "overflow_x": null,
            "overflow_y": null,
            "padding": null,
            "right": null,
            "top": null,
            "visibility": null,
            "width": null
          }
        },
        "5fa659a851014bacb4109ee3c7e1a7d1": {
          "model_module": "@jupyter-widgets/controls",
          "model_name": "DescriptionStyleModel",
          "model_module_version": "1.5.0",
          "state": {
            "_model_module": "@jupyter-widgets/controls",
            "_model_module_version": "1.5.0",
            "_model_name": "DescriptionStyleModel",
            "_view_count": null,
            "_view_module": "@jupyter-widgets/base",
            "_view_module_version": "1.2.0",
            "_view_name": "StyleView",
            "description_width": ""
          }
        },
        "dfc1c9a421e64219a57aecf61f9b19f4": {
          "model_module": "@jupyter-widgets/base",
          "model_name": "LayoutModel",
          "model_module_version": "1.2.0",
          "state": {
            "_model_module": "@jupyter-widgets/base",
            "_model_module_version": "1.2.0",
            "_model_name": "LayoutModel",
            "_view_count": null,
            "_view_module": "@jupyter-widgets/base",
            "_view_module_version": "1.2.0",
            "_view_name": "LayoutView",
            "align_content": null,
            "align_items": null,
            "align_self": null,
            "border": null,
            "bottom": null,
            "display": null,
            "flex": null,
            "flex_flow": null,
            "grid_area": null,
            "grid_auto_columns": null,
            "grid_auto_flow": null,
            "grid_auto_rows": null,
            "grid_column": null,
            "grid_gap": null,
            "grid_row": null,
            "grid_template_areas": null,
            "grid_template_columns": null,
            "grid_template_rows": null,
            "height": null,
            "justify_content": null,
            "justify_items": null,
            "left": null,
            "margin": null,
            "max_height": null,
            "max_width": null,
            "min_height": null,
            "min_width": null,
            "object_fit": null,
            "object_position": null,
            "order": null,
            "overflow": null,
            "overflow_x": null,
            "overflow_y": null,
            "padding": null,
            "right": null,
            "top": null,
            "visibility": null,
            "width": null
          }
        },
        "2bca9bf420c14c488de4d1b0ec58385e": {
          "model_module": "@jupyter-widgets/controls",
          "model_name": "ProgressStyleModel",
          "model_module_version": "1.5.0",
          "state": {
            "_model_module": "@jupyter-widgets/controls",
            "_model_module_version": "1.5.0",
            "_model_name": "ProgressStyleModel",
            "_view_count": null,
            "_view_module": "@jupyter-widgets/base",
            "_view_module_version": "1.2.0",
            "_view_name": "StyleView",
            "bar_color": null,
            "description_width": ""
          }
        },
        "d7b106d61ffc487f9e250692fd724ef2": {
          "model_module": "@jupyter-widgets/base",
          "model_name": "LayoutModel",
          "model_module_version": "1.2.0",
          "state": {
            "_model_module": "@jupyter-widgets/base",
            "_model_module_version": "1.2.0",
            "_model_name": "LayoutModel",
            "_view_count": null,
            "_view_module": "@jupyter-widgets/base",
            "_view_module_version": "1.2.0",
            "_view_name": "LayoutView",
            "align_content": null,
            "align_items": null,
            "align_self": null,
            "border": null,
            "bottom": null,
            "display": null,
            "flex": null,
            "flex_flow": null,
            "grid_area": null,
            "grid_auto_columns": null,
            "grid_auto_flow": null,
            "grid_auto_rows": null,
            "grid_column": null,
            "grid_gap": null,
            "grid_row": null,
            "grid_template_areas": null,
            "grid_template_columns": null,
            "grid_template_rows": null,
            "height": null,
            "justify_content": null,
            "justify_items": null,
            "left": null,
            "margin": null,
            "max_height": null,
            "max_width": null,
            "min_height": null,
            "min_width": null,
            "object_fit": null,
            "object_position": null,
            "order": null,
            "overflow": null,
            "overflow_x": null,
            "overflow_y": null,
            "padding": null,
            "right": null,
            "top": null,
            "visibility": null,
            "width": null
          }
        },
        "52cf82616d5348b4964d60d302666f15": {
          "model_module": "@jupyter-widgets/controls",
          "model_name": "DescriptionStyleModel",
          "model_module_version": "1.5.0",
          "state": {
            "_model_module": "@jupyter-widgets/controls",
            "_model_module_version": "1.5.0",
            "_model_name": "DescriptionStyleModel",
            "_view_count": null,
            "_view_module": "@jupyter-widgets/base",
            "_view_module_version": "1.2.0",
            "_view_name": "StyleView",
            "description_width": ""
          }
        }
      }
    }
  },
  "nbformat": 4,
  "nbformat_minor": 0
}